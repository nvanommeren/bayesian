{
 "cells": [
  {
   "cell_type": "markdown",
   "metadata": {
    "slideshow": {
     "slide_type": "slide"
    }
   },
   "source": [
    "# Bayesian workshop\n",
    "***\n",
    "April 29, 2020\n",
    "\n",
    "## Mojtaba & Nikki\n",
    "***\n",
    "\n",
    "\n",
    "<!-- <img src=\"../images/Logo-GDD.png\" width=\"250\" align=\"right\"> -->\n"
   ]
  },
  {
   "cell_type": "markdown",
   "metadata": {
    "slideshow": {
     "slide_type": "slide"
    }
   },
   "source": [
    "## What we learn today?\n",
    "- Learning and Being able to apply Bayes' Theorem\n",
    "- Hands-on session"
   ]
  },
  {
   "cell_type": "markdown",
   "metadata": {
    "slideshow": {
     "slide_type": "slide"
    }
   },
   "source": [
    "## Bayesian whaaat?\n",
    "***\n",
    "\n",
    "<H6> In statistics there are basically two paradigms: </H6>\n",
    "\n",
    "1. Frequentist (\"classical\" statistics, the stuff you did at school)\n",
    "2. <font color='green'>Bayesian</font>\n"
   ]
  },
  {
   "cell_type": "markdown",
   "metadata": {
    "slideshow": {
     "slide_type": "slide"
    }
   },
   "source": [
    "## Why all the buzz?\n",
    "***\n",
    "\n",
    "- Bayesian statistics is very useful to express uncertainty\n",
    "- Works well with missing data and small samples\n",
    "- Bayesian allows to incorporate prior knowledge in your models\n",
    " - For example, domain knowledge\n",
    "- **Everything** in Bayesian statistics has a probability distribution\n",
    "\n",
    "The bad news?\n",
    "\n",
    "- Takes some time to get used to\n",
    "- Computations are expensive"
   ]
  },
  {
   "cell_type": "markdown",
   "metadata": {
    "slideshow": {
     "slide_type": "slide"
    }
   },
   "source": [
    "## Why Bayesian statistics?\n",
    "***\n",
    "\n",
    "> Bayesian statistics is what all the cool kids are talking about these days.\n",
    "\n",
    "- Uber open-sourced Pyro (Bayesian modeling)\n",
    "- Facebook open-sourced Prophet (Bayesian forecasting)\n"
   ]
  },
  {
   "cell_type": "markdown",
   "metadata": {
    "slideshow": {
     "slide_type": "slide"
    }
   },
   "source": [
    "## Classical Hypothesis testing\n",
    "\n",
    "<img src=\"../../presentation/images/hypothesis_testing.png\" width=\"500\">"
   ]
  },
  {
   "cell_type": "markdown",
   "metadata": {
    "slideshow": {
     "slide_type": "slide"
    }
   },
   "source": [
    "## Bayesian theorem\n",
    "***\n",
    "<img src=\"../images/bayes_theorem.jpg\" width=\"400\">\n",
    "\n",
    "- it allows us to use some knowledge or belief that we already have (commonly known as the prior) to help us calculate the probability of a related event!\n",
    "- P(A|B) is the conditional probability that event A occurs given that event B has already occurred (P(B|A) has the same meaning but with the roles of A and B reversed\n",
    "- P(A) and P(B) are the marginal probabilities of event A and event B occurring respectively.\n"
   ]
  },
  {
   "cell_type": "markdown",
   "metadata": {
    "slideshow": {
     "slide_type": "subslide"
    }
   },
   "source": [
    "### simple example\n",
    "***\n",
    "<H5> There are 52 cards in the pack, 26 of them are red and 26 are black. What is the probability of the card being a 4 given that we know the card is red? </H5>\n",
    "\n",
    "<img src=\"../../presentation/images/cards.png\" width=\"200\" align=\"right\">\n",
    "\n",
    "\n",
    "$$ P(4|red) = \\frac{P(red|4)P(4)}{P(red)} = \\frac{\\frac{1}{2} \\times \\frac{4}{52}}{\\frac{1}{2}} \\approx 0.07 $$"
   ]
  },
  {
   "cell_type": "markdown",
   "metadata": {
    "ExecuteTime": {
     "end_time": "2020-04-27T12:05:10.042785Z",
     "start_time": "2020-04-27T12:05:10.022281Z"
    },
    "slideshow": {
     "slide_type": "slide"
    }
   },
   "source": [
    "## _Bayes' Theorem applied to modeling_ ##\n",
    "***\n",
    "\n",
    "Bayes' Theorem (for continuous variables) states that\n",
    "\n",
    "$$ f(x \\mid y) = \\frac{f(y \\mid x)f(x)}{f(y)}. $$\n",
    "\n",
    "This can be applied in the context of modeling data as follows (replace $x$ with $\\color{red}{\\text{model}}$ and $y$ with $\\color{green}{\\text{data}})$.\n",
    "\n",
    "$$ f(\\color{red}{\\text{model}} \\mid \\color{green}{\\text{data}} ) = \\frac{f(\\color{green}{\\text{data}} \\mid \\color{red}{\\text{model}} )\\times f(\\color{red}{\\text{model}})}{f(\\color{green}{\\text{data}})}. $$"
   ]
  },
  {
   "cell_type": "markdown",
   "metadata": {
    "slideshow": {
     "slide_type": "slide"
    }
   },
   "source": [
    "### _Example: Flipping coins_ ## \n",
    "***\n",
    "\n",
    "![inline](../images/euro-coin-news.png)\n",
    "\n",
    "Source: https://www.newscientist.com/article/dn1748-euro-coin-accused-of-unfair-flipping/"
   ]
  },
  {
   "cell_type": "markdown",
   "metadata": {
    "ExecuteTime": {
     "end_time": "2020-04-27T12:10:31.699825Z",
     "start_time": "2020-04-27T12:10:31.693251Z"
    },
    "slideshow": {
     "slide_type": "subslide"
    }
   },
   "source": [
    "### Is the coin fair?\n",
    "***\n",
    "\n",
    "> Let's say you flip a euro coin 10 times and you observe 4 heads. Is the coin fair? A reasonable estimate of the probability of throwing heads is:\n",
    ">\n",
    "> $$\\hat{\\theta} = \\frac{\\text{number of heads}}{\\text{total number of flips}} = \\frac{4}{10}$$\n",
    ">\n",
    "> How **certain** are you? When would **you** be convinced that the coin is fair? What if you have reason to believe **a priori** that the coin is unfair?\n",
    "\n",
    "This is where Bayes' Theorem proves useful. "
   ]
  },
  {
   "cell_type": "markdown",
   "metadata": {
    "ExecuteTime": {
     "start_time": "2020-04-29T09:41:42.435Z"
    },
    "slideshow": {
     "slide_type": "subslide"
    }
   },
   "source": [
    "### Coin flipping: the Bayesian way\n",
    "***\n",
    "\n",
    "Let's use Bayes' Theorem analyze the fairness of a coin. In the context of the Bayes' formula:\n",
    "\n",
    "- The $\\color{red}{\\text{model}}$ here only consists of one parameter, namely: $\\theta$ (the probability of landing heads).  \n",
    "- The $\\color{green}{\\text{data}}$ that we observe is the number of heads (4) out of the number of coin flips (10). \n",
    "\n",
    "We consider the three components of Bayes' formula separately:"
   ]
  },
  {
   "cell_type": "markdown",
   "metadata": {
    "slideshow": {
     "slide_type": "subslide"
    }
   },
   "source": [
    "#### 1. The likelihood distribution: $f(\\color{green}{\\text{data}} \\mid \\color{red}{\\text{model}} )$\n",
    "***\n",
    "\n",
    "The function $f(\\color{green}{\\text{data}} \\mid \\color{red}{\\text{model}} )$ is called the **likelihood**: it indicates how *likely* the data is, given your model. In this case, it's the probability that you observe 4 heads out of 10 coin flips, given some value for $\\theta$.\n",
    "\n",
    "**Q1:** What is the probability of seeing 4 heads out of 10 coinflips, when the probability of landing heads is equal to $\\theta$? Compute the likelihood of seeing 4 heads out of 10 coinflips for $\\theta=0.4$ and for $\\theta=0.1$. Compare the two: does it make sense what you see? "
   ]
  },
  {
   "cell_type": "markdown",
   "metadata": {
    "slideshow": {
     "slide_type": "subslide"
    }
   },
   "source": [
    "#### Answer\n",
    "***\n",
    "**Q1:** ${10\\choose 4} \\times \\theta^4 \\times (1-\\theta)^6$.\n",
    "\n",
    "Example for three coin tosses:\n",
    "![inline](../images/tree.png)"
   ]
  },
  {
   "cell_type": "markdown",
   "metadata": {
    "slideshow": {
     "slide_type": "subslide"
    }
   },
   "source": [
    "#### 2. The prior distribution: $f(\\color{red}{\\text{model}} )$\n",
    "***\n",
    "\n",
    "The function $f(\\color{red}{\\text{model}})$ is called the **prior distribution**. It's the *belief* that we have about the fairness of coin *prior* to observing the data. Observe that it does not depend on the $\\color{green}{\\text{data}}$.\n",
    "\n",
    "**Q2:** What is a reasonable *prior* belief for a coin? Is there reason to believe that the coin is unfair?\n",
    "\n",
    "Analogous to the prior distribution, we call $f(\\color{red}{\\text{model}} \\mid \\color{green}{\\text{data}} )$ the **posterior distribution**, this is the *belief* in the model **after** (post) observation the data."
   ]
  },
  {
   "cell_type": "markdown",
   "metadata": {
    "slideshow": {
     "slide_type": "subslide"
    }
   },
   "source": [
    "#### Answer\n",
    "**Q2:** This is a subjective matter. What do we know about $\\theta$ before seeing any data? At least, we know that $0\\leq \\theta \\leq1$ (why?). If we haven’t flipped any coins yet, we don’t know much else: so it seems logical that all values of $\\theta$ within this interval are equally likely, i.e., $f(\\theta)=1$, for all $0\\leq \\theta \\leq1$. This is known as an *uninformative prior*, because it contains little information.\n",
    "\n",
    "<img src=\"../images/uniform.png\" width=\"500\">"
   ]
  },
  {
   "cell_type": "markdown",
   "metadata": {
    "slideshow": {
     "slide_type": "subslide"
    }
   },
   "source": [
    "#### 3. Specifying $f(\\color{green}{\\text{data}} )$\n",
    "***\n",
    "\n",
    "Good news: in practice, you almost never need to compute this component. \n",
    "\n",
    "**Q3:** Can you think of reasons why?"
   ]
  },
  {
   "cell_type": "markdown",
   "metadata": {
    "slideshow": {
     "slide_type": "subslide"
    }
   },
   "source": [
    "#### Answer \n",
    "**Q3:** Some intuition. Say you compare two models: \"model 1\" and \"model 2\". Then:\n",
    "\n",
    "$$ \\frac{f(\\color{red}{\\text{model 1}} \\mid \\color{green}{\\text{data}} )}{f(\\color{red}{\\text{model 2}} \\mid \\color{green}{\\text{data}} )}$$\n",
    "\n",
    "is a measure for how more \"likely\" model 1 is than model 2. By using Bayes' Theorem, we find that:\n",
    "\n",
    "$$\\frac{f(\\color{red}{\\text{model 1}} \\mid \\color{green}{\\text{data}} )}{f(\\color{red}{\\text{model 2}} \\mid \\color{green}{\\text{data}} )} = \\frac{\\frac{f(\\color{green}{\\text{data}} \\mid \\color{red}{\\text{model 1}} )\\times f(\\color{red}{\\text{model 1}})}{f(\\color{green}{\\text{data}})}}{\\frac{f(\\color{green}{\\text{data}} \\mid \\color{red}{\\text{model 2}} )\\times f(\\color{red}{\\text{model 2}})}{f(\\color{green}{\\text{data}})}} = \\frac{f(\\color{green}{\\text{data}} \\mid \\color{red}{\\text{model 1}} )\\times f(\\color{red}{\\text{model 1}})}{ f(\\color{green}{\\text{data}} \\mid \\color{red}{\\text{model 2}} )\\times f(\\color{red}{\\text{model 2}})} $$\n",
    "\n",
    "**Observation** This does not depend on $f(\\color{green}{\\text{data}})"
   ]
  },
  {
   "cell_type": "markdown",
   "metadata": {
    "slideshow": {
     "slide_type": "subslide"
    }
   },
   "source": [
    "#### Summarizing\n",
    "***\n",
    "\n",
    "The prior belief is combined with the data through the likelihood function:\n",
    "\n",
    "<img src=\"../images/bayes-flow.png\" width=\"250\">\n",
    "\n",
    "[source](http://jason-doll.com/wordpress/?page_id=127)\n",
    "\n",
    "The **posterior** distribution is what we are after: it reveals how likely certain parameter values of the model are. "
   ]
  },
  {
   "cell_type": "markdown",
   "metadata": {
    "slideshow": {
     "slide_type": "subslide"
    }
   },
   "source": [
    "### Exercise (cont'd): Credibility intervals\n",
    "***\n",
    "\n",
    "**Q4:** Compute and plot the posterior, using a uniform prior distribution (we still consider the example with **10** coin flips and **4** heads).\n",
    "\n",
    "**Q5:** How certain are you that the probability of landing heads is below 60%?\n",
    "\n",
    "**Q6:** Compute the 95% **credibility interval** (this it the interval that contains the 95% most likely values).ipynb_checkpoints/"
   ]
  },
  {
   "cell_type": "code",
   "execution_count": 15,
   "metadata": {
    "ExecuteTime": {
     "end_time": "2020-04-29T09:56:08.204390Z",
     "start_time": "2020-04-29T09:56:07.822720Z"
    },
    "slideshow": {
     "slide_type": "skip"
    }
   },
   "outputs": [
    {
     "data": {
      "image/png": "[encoded data removed]",
      "text/plain": [
       "<Figure size 432x216 with 1 Axes>"
      ]
     },
     "metadata": {},
     "output_type": "display_data"
    }
   ],
   "source": [
    "# %load answers/answer_Q4.py\n",
    "from matplotlib import pyplot as plt\n",
    "import numpy as np\n",
    "from scipy.special import binom\n",
    "import seaborn as sns\n",
    "%matplotlib inline\n",
    "\n",
    "# Plotting settings\n",
    "sns.set()\n",
    "\n",
    "# The data\n",
    "n_heads = 4\n",
    "n_flips = 10\n",
    "\n",
    "# Consider theta = 0.00, 0.01, ..., 0.99, 1.00\n",
    "theta = np.linspace(0, 1, 101)\n",
    "\n",
    "# Each value of theta is even likely a priori\n",
    "prior_distribution = np.ones(len(theta))\n",
    "\n",
    "# Compute the likelihood\n",
    "likelihood = theta ** n_heads * (1 - theta) ** (n_flips - n_heads)\n",
    "\n",
    "# Posterior distribution\n",
    "posterior = likelihood * prior_distribution\n",
    "\n",
    "# Normalize the posterior distribution (for comparability)\n",
    "posterior /= np.max(posterior)\n",
    "\n",
    "_, ax = plt.subplots(figsize=(6,3))\n",
    "ax.plot(theta, posterior)\n",
    "ax.set_xlabel(\"$\\\\theta$\", size=15)\n",
    "ax.set_ylabel(\"Posterior value\", size=15)\n",
    "plt.show()"
   ]
  },
  {
   "cell_type": "code",
   "execution_count": 11,
   "metadata": {
    "ExecuteTime": {
     "end_time": "2020-04-29T09:52:26.598539Z",
     "start_time": "2020-04-29T09:52:26.594217Z"
    },
    "slideshow": {
     "slide_type": "skip"
    }
   },
   "outputs": [
    {
     "name": "stdout",
     "output_type": "stream",
     "text": [
      "Q5 atlernatively:  0.39581500970182365\n"
     ]
    }
   ],
   "source": [
    "# %load answers/answer_Q5.py\n",
    "# 1 alternatively\n",
    "n = len(posterior)\n",
    "posterior = np.sort(posterior)\n",
    "sixty_pct_quantile = int(0.6 * n)\n",
    "print('Q5 atlernatively: ', posterior[sixty_pct_quantile])"
   ]
  },
  {
   "cell_type": "code",
   "execution_count": 12,
   "metadata": {
    "ExecuteTime": {
     "end_time": "2020-04-29T09:52:28.253211Z",
     "start_time": "2020-04-29T09:52:28.248990Z"
    },
    "slideshow": {
     "slide_type": "skip"
    }
   },
   "outputs": [
    {
     "name": "stdout",
     "output_type": "stream",
     "text": [
      "Q6:  (2.5114065518268143e-08, 0.9948460235239076)\n"
     ]
    }
   ],
   "source": [
    "# %load answers/answer_Q6.py\n",
    "interval = (np.quantile(posterior, 0.025), np.quantile(posterior, 0.975))\n",
    "print('Q6: ', interval)"
   ]
  },
  {
   "cell_type": "markdown",
   "metadata": {
    "slideshow": {
     "slide_type": "subslide"
    }
   },
   "source": [
    "### Exercise (cont'd): The effect of observing more data\n",
    "***\n",
    "Change `n_heads` and `n_flips` in the code above and re-run the code a few times to make plots.\n",
    "\n",
    "- What do you see?\n",
    "- What happens when you put `n_flips` higher?\n",
    "- Does this make sense?\n",
    "\n",
    "**Optional:** Wrap the code above in a function where `n_heads` and `n_flips` are parameters. Name the function `plot_posterior`. \n",
    "\n",
    "**Optional:** Make the plot interactive by using the `interact` method from `ipywidgets`:\n",
    "\n",
    "```\n",
    "from ipywidgets import interact\n",
    "interact(plot_posterior, n_flips=(1, 1000), n_heads=(1, 1000))\n",
    "```"
   ]
  },
  {
   "cell_type": "code",
   "execution_count": 14,
   "metadata": {
    "ExecuteTime": {
     "end_time": "2020-04-29T09:53:54.320275Z",
     "start_time": "2020-04-29T09:53:53.904304Z"
    },
    "slideshow": {
     "slide_type": "skip"
    }
   },
   "outputs": [
    {
     "data": {
      "image/png": "[encoded data removed]",
      "text/plain": [
       "<Figure size 432x216 with 1 Axes>"
      ]
     },
     "metadata": {},
     "output_type": "display_data"
    },
    {
     "data": {
      "application/vnd.jupyter.widget-view+json": {
       "model_id": "c7c22bb88905457ab3b6eefce1dfdcce",
       "version_major": 2,
       "version_minor": 0
      },
      "text/plain": [
       "interactive(children=(Dropdown(description='n_flips', options=(5, 10, 15, 20, 25, 30, 35, 40, 45), value=5), D…"
      ]
     },
     "metadata": {},
     "output_type": "display_data"
    },
    {
     "data": {
      "text/plain": [
       "<function __main__.plot_posterior(n_flips, n_heads)>"
      ]
     },
     "execution_count": 14,
     "metadata": {},
     "output_type": "execute_result"
    }
   ],
   "source": [
    "# %load answers/plot_posterior.py\n",
    "from matplotlib import pyplot as plt\n",
    "import numpy as np\n",
    "from scipy.special import binom\n",
    "import seaborn as sns\n",
    "\n",
    "# Plotting settings\n",
    "sns.set()\n",
    "\n",
    "\n",
    "def plot_posterior(n_flips, n_heads):\n",
    "\n",
    "    # We will plot the posterior for theta = 0.00, 0.01, ..., 0.99, 1.00\n",
    "    theta = np.linspace(0, 1, 101)\n",
    "\n",
    "    # Uniform prior distribution\n",
    "    prior_distribution = np.ones(len(theta))\n",
    "\n",
    "    # Compute the likelihood\n",
    "    likelihood = theta ** n_heads * (1 - theta) ** (n_flips - n_heads)\n",
    "\n",
    "    # Posterior distribution\n",
    "    posterior = likelihood * prior_distribution\n",
    "\n",
    "    # Normalize the posterior distribution (for comparability)\n",
    "    posterior /= np.max(posterior)\n",
    "\n",
    "    _, ax = plt.subplots(figsize=(6,3))\n",
    "    ax.plot(theta, posterior)\n",
    "    ax.set_xlabel(\"Theta\", size=15)\n",
    "    ax.set_ylabel(\"Posterior value\", size=15)\n",
    "    plt.show()\n",
    "\n",
    "\n",
    "plot_posterior(100, 50)\n",
    "\n",
    "\n",
    "from ipywidgets import interact\n",
    "interact(plot_posterior, n_flips=np.arange(5, 50, 5), n_heads=np.arange(5, 50, 5))\n"
   ]
  },
  {
   "cell_type": "markdown",
   "metadata": {
    "slideshow": {
     "slide_type": "subslide"
    }
   },
   "source": [
    "### Exercise (cont'd): Informative prior distribution\n",
    "***\n",
    "\n",
    "Rewrite the prior distribution to reflect your prior belief that you are \n",
    "\n",
    "- 90\\% sure that $\\theta$ is between 0.3 and 0.7\n",
    "- 5\\% sure that $\\theta$ is between 0.0 and 0.3\n",
    "- 5\\% sure that $\\theta$ is between 0.7 and 1.0\n",
    "\n",
    "This is called an **informative** prior distribution, since it expresses specific information about the coin."
   ]
  },
  {
   "cell_type": "code",
   "execution_count": 10,
   "metadata": {
    "ExecuteTime": {
     "end_time": "2020-04-27T18:30:45.157416Z",
     "start_time": "2020-04-27T18:30:45.155319Z"
    }
   },
   "outputs": [],
   "source": [
    "# %load exercises/informative_prior.py"
   ]
  },
  {
   "cell_type": "markdown",
   "metadata": {
    "slideshow": {
     "slide_type": "slide"
    }
   },
   "source": [
    "## Approporiate distribution"
   ]
  },
  {
   "cell_type": "markdown",
   "metadata": {
    "slideshow": {
     "slide_type": "slide"
    }
   },
   "source": [
    "### Choosing an appropriate distribution\n",
    "***\n",
    "\n",
    "The follling decision tree, can provide you some guidance on what an appropriate distribution might be for your data.\n",
    "<img src=\"../images/distribution-flow-chart.png\" width=\"800\">\n",
    "\n",
    "[source](https://www.prioritysystem.com/reasons5c.html)\n",
    "\n",
    "**Note** however, that there are many more distributions than the ones depicted in the figure. It's a **non-exhaustive** overview."
   ]
  },
  {
   "cell_type": "markdown",
   "metadata": {
    "ExecuteTime": {
     "end_time": "2020-04-29T09:57:06.261286Z",
     "start_time": "2020-04-29T09:57:06.256439Z"
    },
    "slideshow": {
     "slide_type": "subslide"
    }
   },
   "source": [
    "### Example: Bayesian bandit\n",
    "***\n",
    "The multi-armed bandit (MAB) is a classic problem in decision sciences. Effectively, it is one of optimal resource allocation under uncertainty. The name is derived from old slot machines that where operated by pulling an arm — they are called bandits because they rob those who play them. \n",
    "\n",
    "<img src=\"../../presentation/images/multi-arm.png\" width=\"400\">"
   ]
  },
  {
   "cell_type": "markdown",
   "metadata": {
    "slideshow": {
     "slide_type": "subslide"
    }
   },
   "source": [
    "### Problem definition: \n",
    "we have different assets which we want to show on our awesome website but we really don’t know which one to show. \n",
    "<img src=\"../../presentation/images/red_blue_green.jpeg\" width=\"200\" align=\"right\">\n",
    "\n",
    "- one asset is blue(B),\n",
    "- one asset is red(R),\n",
    "- one asser is green (G)\n",
    "\n",
    "<H5> The answer is </H5>\n",
    "The win probability of blue(B) is 0.3, red(R) is 0.8 and green(G) is 0.4."
   ]
  },
  {
   "cell_type": "markdown",
   "metadata": {
    "ExecuteTime": {
     "end_time": "2020-04-29T10:19:39.970907Z",
     "start_time": "2020-04-29T10:19:39.963661Z"
    },
    "slideshow": {
     "slide_type": "subslide"
    }
   },
   "source": [
    "### Strategy \n",
    "$$ P(\\color{red}{\\theta} \\mid \\color{green}{\\text{data}} ) \\approx P(\\color{green}{\\text{data}} \\mid \\color{red}{\\theta} )\\times P(\\color{red}{\\theta}), $$\n",
    "\n",
    "\n",
    "1. We will sample a random variable from each of the 3 distributions for assets\n",
    "2. We will find out which random variable is maximum and will show the one asset which gave the maximum random variable\n",
    "3. We will get to know if the asset is clicked or not\n",
    "4. We will update the prior for the asset using the information in step 3.\n",
    "5. Repeat!"
   ]
  },
  {
   "cell_type": "markdown",
   "metadata": {
    "slideshow": {
     "slide_type": "subslide"
    }
   },
   "source": [
    "<H5> Thompson sampling </H5>\n",
    "<img src=\"../../presentation/images/thompson-sampling.png\" width=\"300\" align=\"left\">\n",
    "\n",
    "<img src=\"../../presentation/images/bandit.png\" width=\"900\">"
   ]
  },
  {
   "cell_type": "code",
   "execution_count": null,
   "metadata": {},
   "outputs": [],
   "source": []
  }
 ],
 "metadata": {
  "celltoolbar": "Slideshow",
  "kernelspec": {
   "display_name": "Python 3",
   "language": "python",
   "name": "python3"
  },
  "language_info": {
   "codemirror_mode": {
    "name": "ipython",
    "version": 3
   },
   "file_extension": ".py",
   "mimetype": "text/x-python",
   "name": "python",
   "nbconvert_exporter": "python",
   "pygments_lexer": "ipython3",
   "version": "3.7.1"
  },
  "toc": {
   "base_numbering": 1,
   "nav_menu": {},
   "number_sections": true,
   "sideBar": true,
   "skip_h1_title": false,
   "title_cell": "Table of Contents",
   "title_sidebar": "Contents",
   "toc_cell": false,
   "toc_position": {
    "height": "calc(100% - 180px)",
    "left": "10px",
    "top": "150px",
    "width": "307px"
   },
   "toc_section_display": true,
   "toc_window_display": true
  }
 },
 "nbformat": 4,
 "nbformat_minor": 2
}
