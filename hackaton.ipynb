{
 "cells": [
  {
   "cell_type": "markdown",
   "metadata": {},
   "source": [
    "## Multi-armed bandit Hackaton"
   ]
  },
  {
   "cell_type": "code",
   "execution_count": 1,
   "metadata": {
    "ExecuteTime": {
     "end_time": "2020-04-13T12:51:01.728607Z",
     "start_time": "2020-04-13T12:51:01.636386Z"
    }
   },
   "outputs": [],
   "source": [
    "import time\n",
    "import random\n",
    "from pprint import pprint \n",
    "import requests as rq"
   ]
  },
  {
   "cell_type": "code",
   "execution_count": 3,
   "metadata": {
    "ExecuteTime": {
     "end_time": "2020-04-13T12:52:41.412263Z",
     "start_time": "2020-04-13T12:52:41.336773Z"
    },
    "scrolled": false
   },
   "outputs": [],
   "source": [
    "URL = \"https://multi-armed-bandit-274111.ew.r.appspot.com\"\n",
    "OPTIONS = rq.get(URL).json() "
   ]
  },
  {
   "cell_type": "code",
   "execution_count": 9,
   "metadata": {
    "ExecuteTime": {
     "end_time": "2020-04-10T14:24:23.388770Z",
     "start_time": "2020-04-10T14:24:23.384174Z"
    }
   },
   "outputs": [
    {
     "data": {
      "text/plain": [
       "'http://0.0.0.0:8080/pull/bandit0/b'"
      ]
     },
     "execution_count": 9,
     "metadata": {},
     "output_type": "execute_result"
    }
   ],
   "source": [
    "bandit = \"bandit0\"\n",
    "user = \"\" # update this with your user \n",
    "password = \"\" # update this with your password"
   ]
  },
  {
   "cell_type": "markdown",
   "metadata": {},
   "source": [
    "### Bandits"
   ]
  },
  {
   "cell_type": "code",
   "execution_count": 4,
   "metadata": {
    "ExecuteTime": {
     "end_time": "2020-04-13T12:52:43.590792Z",
     "start_time": "2020-04-13T12:52:43.586330Z"
    }
   },
   "outputs": [
    {
     "name": "stdout",
     "output_type": "stream",
     "text": [
      "{'bandit0': ['a', 'b'],\n",
      " 'bandit1': ['a', 'b', 'c'],\n",
      " 'bandit2': ['a', 'b', 'c'],\n",
      " 'bandit3': ['a', 'b', 'c'],\n",
      " 'bandit4': ['a', 'b'],\n",
      " 'bandit5': ['a', 'b', 'c'],\n",
      " 'bandit6': ['a', 'b', 'c'],\n",
      " 'bandit7': ['a']}\n"
     ]
    }
   ],
   "source": [
    "pprint(OPTIONS)"
   ]
  },
  {
   "cell_type": "markdown",
   "metadata": {},
   "source": [
    "### State"
   ]
  },
  {
   "cell_type": "code",
   "execution_count": 5,
   "metadata": {
    "ExecuteTime": {
     "end_time": "2020-04-13T12:52:58.988762Z",
     "start_time": "2020-04-13T12:52:58.897625Z"
    }
   },
   "outputs": [
    {
     "name": "stdout",
     "output_type": "stream",
     "text": [
      "{'boyang': {'coins': {'bandit0': 5000,\n",
      "                      'bandit1': 5000,\n",
      "                      'bandit2': 5000,\n",
      "                      'bandit3': 5000,\n",
      "                      'bandit4': 5000,\n",
      "                      'bandit5': 5000,\n",
      "                      'bandit6': 5000,\n",
      "                      'bandit7': 5000},\n",
      "            'points': {'bandit0': 0,\n",
      "                       'bandit1': 0,\n",
      "                       'bandit2': 0,\n",
      "                       'bandit3': 0,\n",
      "                       'bandit4': 0,\n",
      "                       'bandit5': 0,\n",
      "                       'bandit6': 0,\n",
      "                       'bandit7': 0}},\n",
      " 'carlos': {'coins': {'bandit0': 5000,\n",
      "                      'bandit1': 5000,\n",
      "                      'bandit2': 5000,\n",
      "                      'bandit3': 5000,\n",
      "                      'bandit4': 5000,\n",
      "                      'bandit5': 5000,\n",
      "                      'bandit6': 5000,\n",
      "                      'bandit7': 5000},\n",
      "            'points': {'bandit0': 0,\n",
      "                       'bandit1': 0,\n",
      "                       'bandit2': 0,\n",
      "                       'bandit3': 0,\n",
      "                       'bandit4': 0,\n",
      "                       'bandit5': 0,\n",
      "                       'bandit6': 0,\n",
      "                       'bandit7': 0}},\n",
      " 'christos': {'coins': {'bandit0': 5000,\n",
      "                        'bandit1': 5000,\n",
      "                        'bandit2': 5000,\n",
      "                        'bandit3': 5000,\n",
      "                        'bandit4': 5000,\n",
      "                        'bandit5': 5000,\n",
      "                        'bandit6': 5000,\n",
      "                        'bandit7': 5000},\n",
      "              'points': {'bandit0': 0,\n",
      "                         'bandit1': 0,\n",
      "                         'bandit2': 0,\n",
      "                         'bandit3': 0,\n",
      "                         'bandit4': 0,\n",
      "                         'bandit5': 0,\n",
      "                         'bandit6': 0,\n",
      "                         'bandit7': 0}},\n",
      " 'cindy': {'coins': {'bandit0': 5000,\n",
      "                     'bandit1': 5000,\n",
      "                     'bandit2': 5000,\n",
      "                     'bandit3': 5000,\n",
      "                     'bandit4': 5000,\n",
      "                     'bandit5': 5000,\n",
      "                     'bandit6': 5000,\n",
      "                     'bandit7': 5000},\n",
      "           'points': {'bandit0': 0,\n",
      "                      'bandit1': 0,\n",
      "                      'bandit2': 0,\n",
      "                      'bandit3': 0,\n",
      "                      'bandit4': 0,\n",
      "                      'bandit5': 0,\n",
      "                      'bandit6': 0,\n",
      "                      'bandit7': 0}},\n",
      " 'james': {'coins': {'bandit0': 5000,\n",
      "                     'bandit1': 5000,\n",
      "                     'bandit2': 5000,\n",
      "                     'bandit3': 5000,\n",
      "                     'bandit4': 5000,\n",
      "                     'bandit5': 5000,\n",
      "                     'bandit6': 5000,\n",
      "                     'bandit7': 5000},\n",
      "           'points': {'bandit0': 0,\n",
      "                      'bandit1': 0,\n",
      "                      'bandit2': 0,\n",
      "                      'bandit3': 0,\n",
      "                      'bandit4': 0,\n",
      "                      'bandit5': 0,\n",
      "                      'bandit6': 0,\n",
      "                      'bandit7': 0}},\n",
      " 'mojtaba': {'coins': {'bandit0': 5000,\n",
      "                       'bandit1': 5000,\n",
      "                       'bandit2': 5000,\n",
      "                       'bandit3': 5000,\n",
      "                       'bandit4': 5000,\n",
      "                       'bandit5': 5000,\n",
      "                       'bandit6': 5000,\n",
      "                       'bandit7': 5000},\n",
      "             'points': {'bandit0': 0,\n",
      "                        'bandit1': 0,\n",
      "                        'bandit2': 0,\n",
      "                        'bandit3': 0,\n",
      "                        'bandit4': 0,\n",
      "                        'bandit5': 0,\n",
      "                        'bandit6': 0,\n",
      "                        'bandit7': 0}},\n",
      " 'nikki': {'coins': {'bandit0': 5000,\n",
      "                     'bandit1': 5000,\n",
      "                     'bandit2': 5000,\n",
      "                     'bandit3': 5000,\n",
      "                     'bandit4': 5000,\n",
      "                     'bandit5': 5000,\n",
      "                     'bandit6': 5000,\n",
      "                     'bandit7': 5000},\n",
      "           'points': {'bandit0': 0,\n",
      "                      'bandit1': 0,\n",
      "                      'bandit2': 0,\n",
      "                      'bandit3': 0,\n",
      "                      'bandit4': 0,\n",
      "                      'bandit5': 0,\n",
      "                      'bandit6': 0,\n",
      "                      'bandit7': 0}},\n",
      " 'vaidotas': {'coins': {'bandit0': 5000,\n",
      "                        'bandit1': 5000,\n",
      "                        'bandit2': 5000,\n",
      "                        'bandit3': 5000,\n",
      "                        'bandit4': 5000,\n",
      "                        'bandit5': 5000,\n",
      "                        'bandit6': 5000,\n",
      "                        'bandit7': 5000},\n",
      "              'points': {'bandit0': 0,\n",
      "                         'bandit1': 0,\n",
      "                         'bandit2': 0,\n",
      "                         'bandit3': 0,\n",
      "                         'bandit4': 0,\n",
      "                         'bandit5': 0,\n",
      "                         'bandit6': 0,\n",
      "                         'bandit7': 0}},\n",
      " 'veerle': {'coins': {'bandit0': 5000,\n",
      "                      'bandit1': 5000,\n",
      "                      'bandit2': 5000,\n",
      "                      'bandit3': 5000,\n",
      "                      'bandit4': 5000,\n",
      "                      'bandit5': 5000,\n",
      "                      'bandit6': 5000,\n",
      "                      'bandit7': 5000},\n",
      "            'points': {'bandit0': 0,\n",
      "                       'bandit1': 0,\n",
      "                       'bandit2': 0,\n",
      "                       'bandit3': 0,\n",
      "                       'bandit4': 0,\n",
      "                       'bandit5': 0,\n",
      "                       'bandit6': 0,\n",
      "                       'bandit7': 0}},\n",
      " 'wouter': {'coins': {'bandit0': 5000,\n",
      "                      'bandit1': 5000,\n",
      "                      'bandit2': 5000,\n",
      "                      'bandit3': 5000,\n",
      "                      'bandit4': 5000,\n",
      "                      'bandit5': 5000,\n",
      "                      'bandit6': 5000,\n",
      "                      'bandit7': 5000},\n",
      "            'points': {'bandit0': 0,\n",
      "                       'bandit1': 0,\n",
      "                       'bandit2': 0,\n",
      "                       'bandit3': 0,\n",
      "                       'bandit4': 0,\n",
      "                       'bandit5': 0,\n",
      "                       'bandit6': 0,\n",
      "                       'bandit7': 0}}}\n"
     ]
    }
   ],
   "source": [
    "pprint(rq.get(f\"{URL}/state\").json())"
   ]
  },
  {
   "cell_type": "markdown",
   "metadata": {},
   "source": [
    "### Pull Bandit"
   ]
  },
  {
   "cell_type": "code",
   "execution_count": 11,
   "metadata": {
    "ExecuteTime": {
     "end_time": "2020-04-10T14:24:34.671092Z",
     "start_time": "2020-04-10T14:24:34.657395Z"
    }
   },
   "outputs": [],
   "source": [
    "bandit = 'bandit0'\n",
    "url = f\"{URL}/pull/{bandit}/a\"\n",
    "\n",
    "# url\n",
    "resp = rq.post(url, json={'user': user, \n",
    "                          'password': password})\n",
    "resp.json()"
   ]
  }
 ],
 "metadata": {
  "kernelspec": {
   "display_name": "Python 3",
   "language": "python",
   "name": "python3"
  },
  "language_info": {
   "codemirror_mode": {
    "name": "ipython",
    "version": 3
   },
   "file_extension": ".py",
   "mimetype": "text/x-python",
   "name": "python",
   "nbconvert_exporter": "python",
   "pygments_lexer": "ipython3",
   "version": "3.6.9"
  },
  "toc": {
   "base_numbering": 1,
   "nav_menu": {},
   "number_sections": true,
   "sideBar": true,
   "skip_h1_title": false,
   "title_cell": "Table of Contents",
   "title_sidebar": "Contents",
   "toc_cell": false,
   "toc_position": {},
   "toc_section_display": true,
   "toc_window_display": true
  },
  "varInspector": {
   "cols": {
    "lenName": 16,
    "lenType": 16,
    "lenVar": 40
   },
   "kernels_config": {
    "python": {
     "delete_cmd_postfix": "",
     "delete_cmd_prefix": "del ",
     "library": "var_list.py",
     "varRefreshCmd": "print(var_dic_list())"
    },
    "r": {
     "delete_cmd_postfix": ") ",
     "delete_cmd_prefix": "rm(",
     "library": "var_list.r",
     "varRefreshCmd": "cat(var_dic_list()) "
    }
   },
   "types_to_exclude": [
    "module",
    "function",
    "builtin_function_or_method",
    "instance",
    "_Feature"
   ],
   "window_display": false
  }
 },
 "nbformat": 4,
 "nbformat_minor": 2
}
